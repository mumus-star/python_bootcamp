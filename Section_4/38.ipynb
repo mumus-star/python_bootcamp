{
 "cells": [
  {
   "cell_type": "code",
   "execution_count": 8,
   "id": "60ef9d6d-25d0-4369-a3e1-fd30b8655c4b",
   "metadata": {},
   "outputs": [],
   "source": [
    "mylist = []\n",
    "\n",
    "for letter in mylist:\n",
    "    mylist.append(letter)"
   ]
  },
  {
   "cell_type": "code",
   "execution_count": 9,
   "id": "b1c0a070-1944-4fa1-83eb-02015c44caeb",
   "metadata": {},
   "outputs": [
    {
     "data": {
      "text/plain": [
       "[]"
      ]
     },
     "execution_count": 9,
     "metadata": {},
     "output_type": "execute_result"
    }
   ],
   "source": [
    "mylist"
   ]
  },
  {
   "cell_type": "code",
   "execution_count": 10,
   "id": "2aa1b3b3-37d1-43f8-9047-3f72ca89ce08",
   "metadata": {},
   "outputs": [
    {
     "name": "stdout",
     "output_type": "stream",
     "text": [
      "[]\n"
     ]
    }
   ],
   "source": [
    "print(mylist)"
   ]
  },
  {
   "cell_type": "code",
   "execution_count": 13,
   "id": "70dc9cae-13bd-4205-a839-df7bdd70aa5b",
   "metadata": {},
   "outputs": [
    {
     "ename": "TypeError",
     "evalue": "'int' object is not iterable",
     "output_type": "error",
     "traceback": [
      "\u001b[1;31m---------------------------------------------------------------------------\u001b[0m",
      "\u001b[1;31mTypeError\u001b[0m                                 Traceback (most recent call last)",
      "Cell \u001b[1;32mIn[13], line 3\u001b[0m\n\u001b[0;32m      1\u001b[0m mystring \u001b[38;5;241m=\u001b[39m \u001b[38;5;124m'\u001b[39m\u001b[38;5;124mhello\u001b[39m\u001b[38;5;124m'\u001b[39m\n\u001b[1;32m----> 3\u001b[0m mylist \u001b[38;5;241m=\u001b[39m [letter \u001b[38;5;28;01mfor\u001b[39;00m letter \u001b[38;5;129;01min\u001b[39;00m \u001b[38;5;28mlen\u001b[39m(mystring)]\n\u001b[0;32m      5\u001b[0m \u001b[38;5;28mprint\u001b[39m(mylist)\n",
      "\u001b[1;31mTypeError\u001b[0m: 'int' object is not iterable"
     ]
    }
   ],
   "source": [
    "mystring = 'hello'\n",
    "\n",
    "mylist = [letter for letter in mystring]\n",
    "\n",
    "print(mylist)"
   ]
  },
  {
   "cell_type": "code",
   "execution_count": 35,
   "id": "0e666354-5961-4cc2-8a65-4aee61ede6ac",
   "metadata": {},
   "outputs": [],
   "source": [
    "mylist = [x for x in 'word']"
   ]
  },
  {
   "cell_type": "code",
   "execution_count": 36,
   "id": "18383cc6-8d2d-4028-9328-84312b7be8f9",
   "metadata": {},
   "outputs": [
    {
     "data": {
      "text/plain": [
       "['w', 'o', 'r', 'd']"
      ]
     },
     "execution_count": 36,
     "metadata": {},
     "output_type": "execute_result"
    }
   ],
   "source": [
    "mylist"
   ]
  },
  {
   "cell_type": "code",
   "execution_count": 33,
   "id": "08fae0fa-e509-492d-bb2b-db41fc616104",
   "metadata": {},
   "outputs": [
    {
     "data": {
      "text/plain": [
       "[0, 4, 16, 36, 64, 100]"
      ]
     },
     "execution_count": 33,
     "metadata": {},
     "output_type": "execute_result"
    }
   ],
   "source": [
    "mylist = [num**2 for num in range(0,11) if num%2 == 0]\n",
    "mylist"
   ]
  },
  {
   "cell_type": "code",
   "execution_count": 21,
   "id": "359ec2cc-9222-4ff5-9e62-b7c62bd965a8",
   "metadata": {},
   "outputs": [
    {
     "data": {
      "text/plain": [
       "6785798"
      ]
     },
     "execution_count": 21,
     "metadata": {},
     "output_type": "execute_result"
    }
   ],
   "source": [
    "6785798**1"
   ]
  },
  {
   "cell_type": "code",
   "execution_count": 31,
   "id": "eae845d3-edcc-40d9-b5cc-498d5f47382d",
   "metadata": {},
   "outputs": [],
   "source": [
    "celcies = [0,10,20,34.5]"
   ]
  },
  {
   "cell_type": "code",
   "execution_count": 39,
   "id": "11333683-b028-4d8d-b697-df5b54048ae2",
   "metadata": {},
   "outputs": [],
   "source": [
    "select = [1, 4, 78, 21, 11, 5, 110]\n",
    "\n",
    "odd_numbers = [num for num in select if num%2 != 0]"
   ]
  },
  {
   "cell_type": "code",
   "execution_count": 40,
   "id": "60811e7b-abf4-4907-9e53-a8745b23a9f0",
   "metadata": {},
   "outputs": [
    {
     "data": {
      "text/plain": [
       "[1, 21, 11, 5]"
      ]
     },
     "execution_count": 40,
     "metadata": {},
     "output_type": "execute_result"
    }
   ],
   "source": [
    "odd_numbers"
   ]
  },
  {
   "cell_type": "code",
   "execution_count": 42,
   "id": "93701916-b3a6-49ec-a791-ac13cc9e364d",
   "metadata": {},
   "outputs": [],
   "source": [
    "resulst = [x if x%2==0 else 'ODD' for x in range(0,11)]"
   ]
  },
  {
   "cell_type": "code",
   "execution_count": 43,
   "id": "25e6e45f-e23c-4cce-b2d3-bfdf64e21576",
   "metadata": {},
   "outputs": [
    {
     "data": {
      "text/plain": [
       "[0, 'ODD', 2, 'ODD', 4, 'ODD', 6, 'ODD', 8, 'ODD', 10]"
      ]
     },
     "execution_count": 43,
     "metadata": {},
     "output_type": "execute_result"
    }
   ],
   "source": [
    "resulst"
   ]
  },
  {
   "cell_type": "code",
   "execution_count": 47,
   "id": "8309325a-7b19-4ed8-b838-1e7d8c2a26bc",
   "metadata": {},
   "outputs": [],
   "source": [
    "mylist = []\n",
    "\n",
    "for x in [2,4,6]:\n",
    "    for y in [1,10,1000]:\n",
    "        mylist.append(x*y)"
   ]
  },
  {
   "cell_type": "code",
   "execution_count": 48,
   "id": "d82f3d80-e9b6-4099-812b-b89b59f547b0",
   "metadata": {},
   "outputs": [
    {
     "data": {
      "text/plain": [
       "[2, 20, 2000, 4, 40, 4000, 6, 60, 6000]"
      ]
     },
     "execution_count": 48,
     "metadata": {},
     "output_type": "execute_result"
    }
   ],
   "source": [
    "mylist"
   ]
  },
  {
   "cell_type": "code",
   "execution_count": 59,
   "id": "455185f7-c333-43d9-8010-23b92b4e7ee3",
   "metadata": {},
   "outputs": [],
   "source": [
    "my_list = [2, 5, 7, 9, 3, 6, 19, 18, 44]\n",
    "\n",
    "even_odd = [x if x%2==0 else 'ODD' for x in my_list ]"
   ]
  },
  {
   "cell_type": "code",
   "execution_count": 60,
   "id": "7b8d8b51-2d35-4edf-8bec-7617ebbb43a8",
   "metadata": {},
   "outputs": [
    {
     "data": {
      "text/plain": [
       "[2, 'ODD', 'ODD', 'ODD', 'ODD', 6, 'ODD', 18, 44]"
      ]
     },
     "execution_count": 60,
     "metadata": {},
     "output_type": "execute_result"
    }
   ],
   "source": [
    "even_odd"
   ]
  },
  {
   "cell_type": "code",
   "execution_count": 19,
   "id": "9fe55ea7-6f05-4590-9ebc-3e1aaf8647d7",
   "metadata": {},
   "outputs": [
    {
     "name": "stdout",
     "output_type": "stream",
     "text": [
      "True\n"
     ]
    },
    {
     "name": "stderr",
     "output_type": "stream",
     "text": [
      "<>:1: SyntaxWarning: \"is\" with a literal. Did you mean \"==\"?\n",
      "<>:1: SyntaxWarning: \"is\" with a literal. Did you mean \"==\"?\n",
      "C:\\Users\\Miguel\\AppData\\Local\\Temp\\ipykernel_20092\\1692750307.py:1: SyntaxWarning: \"is\" with a literal. Did you mean \"==\"?\n",
      "  print('a' is 'a')\n"
     ]
    }
   ],
   "source": [
    "print('a' is 'a')"
   ]
  },
  {
   "cell_type": "code",
   "execution_count": null,
   "id": "88958557-daa2-4778-bbb5-66d3442e7b69",
   "metadata": {},
   "outputs": [],
   "source": []
  }
 ],
 "metadata": {
  "kernelspec": {
   "display_name": "Python 3 (ipykernel)",
   "language": "python",
   "name": "python3"
  },
  "language_info": {
   "codemirror_mode": {
    "name": "ipython",
    "version": 3
   },
   "file_extension": ".py",
   "mimetype": "text/x-python",
   "name": "python",
   "nbconvert_exporter": "python",
   "pygments_lexer": "ipython3",
   "version": "3.10.9"
  },
  "widgets": {
   "application/vnd.jupyter.widget-state+json": {
    "state": {},
    "version_major": 2,
    "version_minor": 0
   }
  }
 },
 "nbformat": 4,
 "nbformat_minor": 5
}
