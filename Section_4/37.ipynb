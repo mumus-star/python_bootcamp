{
 "cells": [
  {
   "cell_type": "code",
   "execution_count": 9,
   "id": "1a2657ce-2c8c-4496-bb5f-27cb1d0c54c8",
   "metadata": {},
   "outputs": [],
   "source": [
    "mylist = [1,2,3]"
   ]
  },
  {
   "cell_type": "code",
   "execution_count": 11,
   "id": "c36f9719-8683-4026-95d8-16838f25dc18",
   "metadata": {},
   "outputs": [
    {
     "name": "stdout",
     "output_type": "stream",
     "text": [
      "0\n",
      "1\n",
      "2\n",
      "3\n",
      "4\n",
      "5\n",
      "6\n",
      "7\n",
      "8\n",
      "9\n",
      "10\n"
     ]
    }
   ],
   "source": [
    "for num in range(11):\n",
    "    print(num)"
   ]
  },
  {
   "cell_type": "code",
   "execution_count": null,
   "id": "d962e1a8-9bfb-4be7-9e03-53849ec20b49",
   "metadata": {},
   "outputs": [],
   "source": [
    "index_count = 0\n",
    "\n",
    "for letter in 'abcde'"
   ]
  },
  {
   "cell_type": "code",
   "execution_count": 4,
   "id": "40612b8e-5441-4ab8-b1d1-058a77a45fde",
   "metadata": {},
   "outputs": [
    {
     "name": "stdout",
     "output_type": "stream",
     "text": [
      "1\n",
      "2\n",
      "3\n",
      "4\n",
      "5\n",
      "6\n"
     ]
    }
   ],
   "source": [
    "start = 1\n",
    "while start <= 10:\n",
    "    if(start == 7):\n",
    "        break\n",
    "        print(\"I am after continue\")\n",
    "    print(start)\n",
    "    start += 1"
   ]
  },
  {
   "cell_type": "code",
   "execution_count": 6,
   "id": "4b5d624b-fc0d-4d55-901c-4e2b311c305d",
   "metadata": {},
   "outputs": [
    {
     "name": "stdout",
     "output_type": "stream",
     "text": [
      "1\n",
      "2\n",
      "3\n",
      "4\n",
      "5\n",
      "6\n",
      "9\n",
      "10\n"
     ]
    }
   ],
   "source": [
    "for n in range(1,11):\n",
    "    if(n == 7 or n == 8):\n",
    "        continue\n",
    "        print(\"I am after continue\")\n",
    "    print(n)\n",
    "    start += 1"
   ]
  },
  {
   "cell_type": "code",
   "execution_count": 18,
   "id": "e67fdf8f-82fd-4310-a08d-37dc6f32a17c",
   "metadata": {},
   "outputs": [
    {
     "name": "stdout",
     "output_type": "stream",
     "text": [
      "('a', 'a')\n",
      "('b', 'b')\n",
      "('c', 'c')\n"
     ]
    }
   ],
   "source": [
    "word = 'abcde'\n",
    "word_1 = ['a','b','c']\n",
    "for item in zip(word,word_1):\n",
    "    print(item)"
   ]
  },
  {
   "cell_type": "code",
   "execution_count": null,
   "id": "ad61ea1d-86cd-40dc-bf42-c427d8ff3f29",
   "metadata": {},
   "outputs": [
    {
     "name": "stdin",
     "output_type": "stream",
     "text": [
      "what is your age -2\n"
     ]
    }
   ],
   "source": [
    "age = int(input(\"what is your age\"))\n",
    "\n",
    "while age < 0:\n",
    "    if age < 0:\n",
    "        age = int(input(\"I SAID WHAT IS YOUR AGE TELL ME RIGHT NOW!\"))\n",
    "    elif age < 0:\n",
    "        print(f\"you are {age} years old\")\n",
    "        age = int(input(\"DO YOU WANT TO FIND OUT THE HARD WAY\"))\n",
    "    elif age < 0:\n",
    "        print(f\"you are {age} years old\")\n",
    "        age = int(input(\"for the last time tell me your name!!!\"))\n",
    "    elif age < 0:\n",
    "        print(f\"you are {age} years old\")\n",
    "        age = int(input(\"I WILL TO YOUR HOUSE COME IF YOU DONT TELL ME YOUR AGE!!!\"))\n",
    "    elif age < 0:\n",
    "        print(f\"you are {age} years old\")\n",
    "        age = int(input(\"THATS IT YOU LIVE AT 82 LAMPORT KINSGHTHORPE NORTHAMPOTON.!!!\"))\n",
    "    elif age < 0:\n",
    "        print(f\"you are {age} years old\")\n",
    "    else:\n",
    "        pass"
   ]
  },
  {
   "cell_type": "code",
   "execution_count": 1,
   "id": "3c6b980a-75d4-4ed6-a6d5-8c9f9e997d4a",
   "metadata": {},
   "outputs": [],
   "source": [
    "mylist = [10,20,30,40,50,60,70,80,90,100]"
   ]
  },
  {
   "cell_type": "code",
   "execution_count": 3,
   "id": "f7410da3-946b-429a-a8a8-cb7d51cf22f1",
   "metadata": {},
   "outputs": [
    {
     "data": {
      "text/plain": [
       "10"
      ]
     },
     "execution_count": 3,
     "metadata": {},
     "output_type": "execute_result"
    }
   ],
   "source": [
    "min(mylist)"
   ]
  },
  {
   "cell_type": "code",
   "execution_count": 4,
   "id": "fc309860-6677-48cd-9937-4bd5eb4ac67c",
   "metadata": {},
   "outputs": [
    {
     "data": {
      "text/plain": [
       "100"
      ]
     },
     "execution_count": 4,
     "metadata": {},
     "output_type": "execute_result"
    }
   ],
   "source": [
    "max(mylist)"
   ]
  },
  {
   "cell_type": "code",
   "execution_count": 5,
   "id": "aefca0b3-b6a4-4829-bf67-73513578dda9",
   "metadata": {},
   "outputs": [],
   "source": [
    "from random import shuffle"
   ]
  },
  {
   "cell_type": "code",
   "execution_count": 6,
   "id": "b30e8845-5513-4db2-9b3d-62b82467cbc7",
   "metadata": {},
   "outputs": [],
   "source": [
    "mylist = [1,2,3,4,5,6,7,8,9,10]"
   ]
  },
  {
   "cell_type": "code",
   "execution_count": 7,
   "id": "e1d1f177-f9e4-4589-b62f-bba7e52ed53e",
   "metadata": {},
   "outputs": [
    {
     "data": {
      "text/plain": [
       "[1, 2, 3, 4, 5, 6, 7, 8, 9, 10]"
      ]
     },
     "execution_count": 7,
     "metadata": {},
     "output_type": "execute_result"
    }
   ],
   "source": [
    "mylist"
   ]
  },
  {
   "cell_type": "code",
   "execution_count": 8,
   "id": "ecca2bbb-a009-4fbc-81dd-17a5bd2c72c2",
   "metadata": {},
   "outputs": [],
   "source": [
    "random_list = shuffle(mylist)"
   ]
  },
  {
   "cell_type": "code",
   "execution_count": 47,
   "id": "9998a124-8179-43ef-8771-e6f8ad3c1752",
   "metadata": {},
   "outputs": [
    {
     "data": {
      "text/plain": [
       "[1, 6, 7, 10, 5, 2, 3, 9, 4, 8]"
      ]
     },
     "execution_count": 47,
     "metadata": {},
     "output_type": "execute_result"
    }
   ],
   "source": [
    "mylist"
   ]
  },
  {
   "cell_type": "code",
   "execution_count": 49,
   "id": "b6652a8e-70a1-4c0e-89fa-90f63145ac28",
   "metadata": {},
   "outputs": [],
   "source": [
    "from random import randint"
   ]
  },
  {
   "cell_type": "code",
   "execution_count": 74,
   "id": "535765e1-423e-4a65-acfa-db05f12c69e1",
   "metadata": {},
   "outputs": [
    {
     "data": {
      "text/plain": [
       "8"
      ]
     },
     "execution_count": 74,
     "metadata": {},
     "output_type": "execute_result"
    }
   ],
   "source": [
    "randint(0,100)"
   ]
  }
 ],
 "metadata": {
  "kernelspec": {
   "display_name": "Python 3 (ipykernel)",
   "language": "python",
   "name": "python3"
  },
  "language_info": {
   "codemirror_mode": {
    "name": "ipython",
    "version": 3
   },
   "file_extension": ".py",
   "mimetype": "text/x-python",
   "name": "python",
   "nbconvert_exporter": "python",
   "pygments_lexer": "ipython3",
   "version": "3.10.9"
  },
  "widgets": {
   "application/vnd.jupyter.widget-state+json": {
    "state": {},
    "version_major": 2,
    "version_minor": 0
   }
  }
 },
 "nbformat": 4,
 "nbformat_minor": 5
}
