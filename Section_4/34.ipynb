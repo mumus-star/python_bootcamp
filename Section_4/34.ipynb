{
 "cells": [
  {
   "cell_type": "code",
   "execution_count": 9,
   "id": "d5a2d400-895d-45d4-95cd-b0e08fdcb64c",
   "metadata": {},
   "outputs": [
    {
     "name": "stdout",
     "output_type": "stream",
     "text": [
      "Welcom to the store\n"
     ]
    }
   ],
   "source": [
    "loc = 'Store'\n",
    "\n",
    "if loc == 'Auto shop':\n",
    "    print(\"Cars are cool!\")\n",
    "elif loc == 'Bank':\n",
    "    print(\"I have a few million in my bank\")\n",
    "elif loc == 'Store':\n",
    "    print(\"Welcom to the store\")\n",
    "else:\n",
    "    print(\"I have no idea what to talk about\")"
   ]
  },
  {
   "cell_type": "code",
   "execution_count": 12,
   "id": "30280cb6-0dc0-4265-88c7-b98ace2d7cbe",
   "metadata": {},
   "outputs": [
    {
     "name": "stdout",
     "output_type": "stream",
     "text": [
      "M\n",
      "i\n",
      "g\n",
      "u\n",
      "e\n",
      "l\n"
     ]
    }
   ],
   "source": [
    "n = 12\n",
    "for x in \"Miguel\":\n",
    "    print(x)\n",
    "    "
   ]
  },
  {
   "cell_type": "code",
   "execution_count": 20,
   "id": "c3438a7c-1674-4c96-a791-9bffdfeb22cb",
   "metadata": {},
   "outputs": [
    {
     "name": "stdout",
     "output_type": "stream",
     "text": [
      "3\n",
      "4\n",
      "5\n",
      "1\n",
      "2\n",
      "3\n",
      "4\n",
      "5\n"
     ]
    }
   ],
   "source": [
    "lst = [1,2,3,4,5]  # 5, 1, 2, 3, 4, 5\n",
    "len(lst)\n",
    "\n",
    "for x in lst:\n",
    "    pass\n",
    "    #print(x)\n",
    "    \n",
    "\n",
    "start = -3\n",
    "items = len(lst)\n",
    "\n",
    "while start < items:\n",
    "    print(lst[start])\n",
    "    start = start + 1"
   ]
  }
 ],
 "metadata": {
  "kernelspec": {
   "display_name": "Python 3 (ipykernel)",
   "language": "python",
   "name": "python3"
  },
  "language_info": {
   "codemirror_mode": {
    "name": "ipython",
    "version": 3
   },
   "file_extension": ".py",
   "mimetype": "text/x-python",
   "name": "python",
   "nbconvert_exporter": "python",
   "pygments_lexer": "ipython3",
   "version": "3.10.9"
  },
  "widgets": {
   "application/vnd.jupyter.widget-state+json": {
    "state": {},
    "version_major": 2,
    "version_minor": 0
   }
  }
 },
 "nbformat": 4,
 "nbformat_minor": 5
}
