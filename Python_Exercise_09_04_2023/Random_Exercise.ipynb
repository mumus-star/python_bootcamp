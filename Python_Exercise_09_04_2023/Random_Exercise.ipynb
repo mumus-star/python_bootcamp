{
 "cells": [
  {
   "cell_type": "markdown",
   "id": "4d088c41-9d4d-4dc1-93f4-3f7f055e63d1",
   "metadata": {},
   "source": [
    "### Write a function that accepts 3 arguments, num1, num2, num3. If the sum of the first and second argument, num1 + num2 is greater than the third agument num3, return the sum of all the arguments else return the sum of the first and second argument minus the third argument."
   ]
  },
  {
   "cell_type": "code",
   "execution_count": 4,
   "id": "747e5354-4088-4e4f-8355-163e8aea0769",
   "metadata": {},
   "outputs": [],
   "source": [
    "def calculate_three_numbers(num1,num2,num3):\n",
    "    # sum of the first and second argument\n",
    "    numbers = num1 + num2\n",
    "    if numbers > num3:\n",
    "        return num1 + num2 + num3\n",
    "    else:\n",
    "        return numbers - num3"
   ]
  },
  {
   "cell_type": "code",
   "execution_count": 6,
   "id": "18200139-432e-4709-aa95-54b1efd812a1",
   "metadata": {},
   "outputs": [
    {
     "data": {
      "text/plain": [
       "50"
      ]
     },
     "execution_count": 6,
     "metadata": {},
     "output_type": "execute_result"
    }
   ],
   "source": [
    "calculate_three_numbers(20,20,10)"
   ]
  },
  {
   "cell_type": "code",
   "execution_count": 7,
   "id": "3b3a55a1-5f68-48c2-a227-12767727fa29",
   "metadata": {},
   "outputs": [
    {
     "data": {
      "text/plain": [
       "range(0, 10)"
      ]
     },
     "execution_count": 7,
     "metadata": {},
     "output_type": "execute_result"
    }
   ],
   "source": []
  }
 ],
 "metadata": {
  "kernelspec": {
   "display_name": "Python 3 (ipykernel)",
   "language": "python",
   "name": "python3"
  },
  "language_info": {
   "codemirror_mode": {
    "name": "ipython",
    "version": 3
   },
   "file_extension": ".py",
   "mimetype": "text/x-python",
   "name": "python",
   "nbconvert_exporter": "python",
   "pygments_lexer": "ipython3",
   "version": "3.10.9"
  },
  "widgets": {
   "application/vnd.jupyter.widget-state+json": {
    "state": {},
    "version_major": 2,
    "version_minor": 0
   }
  }
 },
 "nbformat": 4,
 "nbformat_minor": 5
}
