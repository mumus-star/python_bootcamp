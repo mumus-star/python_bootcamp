{
 "cells": [
  {
   "cell_type": "code",
   "execution_count": 29,
   "id": "4c95716b-7d9e-4be5-8e48-044875cf5fe3",
   "metadata": {},
   "outputs": [
    {
     "name": "stdout",
     "output_type": "stream",
     "text": [
      "Current Number 0 Previous Number 0 Sum: 0\n",
      "Current Number 1 Previous Number 1 Sum: 1\n",
      "Current Number 2 Previous Number 3 Sum: 3\n",
      "Current Number 3 Previous Number 5 Sum: 5\n",
      "Current Number 4 Previous Number 7 Sum: 7\n",
      "Current Number 5 Previous Number 9 Sum: 9\n",
      "Current Number 6 Previous Number 11 Sum: 11\n",
      "Current Number 7 Previous Number 13 Sum: 13\n",
      "Current Number 8 Previous Number 15 Sum: 15\n",
      "Current Number 9 Previous Number 17 Sum: 17\n"
     ]
    }
   ],
   "source": [
    "# Current Number 0 Previous Number  0  Sum:  0\n",
    "\n",
    "previous_num = 0\n",
    "for i in range(10):\n",
    "    sum = i+previous_num\n",
    "    print(f'Current Number {i} Previous Number {sum} Sum: {sum}')\n",
    "    previous_num = i"
   ]
  },
  {
   "cell_type": "code",
   "execution_count": null,
   "id": "a1b39e59-01f6-4878-97f1-f5be32d2c964",
   "metadata": {},
   "outputs": [],
   "source": []
  }
 ],
 "metadata": {
  "kernelspec": {
   "display_name": "Python 3 (ipykernel)",
   "language": "python",
   "name": "python3"
  },
  "language_info": {
   "codemirror_mode": {
    "name": "ipython",
    "version": 3
   },
   "file_extension": ".py",
   "mimetype": "text/x-python",
   "name": "python",
   "nbconvert_exporter": "python",
   "pygments_lexer": "ipython3",
   "version": "3.10.9"
  },
  "widgets": {
   "application/vnd.jupyter.widget-state+json": {
    "state": {},
    "version_major": 2,
    "version_minor": 0
   }
  }
 },
 "nbformat": 4,
 "nbformat_minor": 5
}
