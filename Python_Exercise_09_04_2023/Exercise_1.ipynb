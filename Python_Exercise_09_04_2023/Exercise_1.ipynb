{
 "cells": [
  {
   "cell_type": "code",
   "execution_count": 19,
   "id": "a6263128-5ee2-4272-aeae-f6d40eafc90a",
   "metadata": {},
   "outputs": [],
   "source": [
    "# Given two integer numbers \n",
    "# return their product only if the product is equal to or lower than 1000\n",
    "#else return their sum.\n",
    "\n",
    "def number(num1,num2):\n",
    "    product = num1*num2\n",
    "    \n",
    "    if product <= 1000:\n",
    "        return product\n",
    "    else:\n",
    "        return num1 + num2"
   ]
  },
  {
   "cell_type": "code",
   "execution_count": 20,
   "id": "29f44b23-8374-45d4-b42d-7bb12b528ad9",
   "metadata": {},
   "outputs": [
    {
     "data": {
      "text/plain": [
       "70"
      ]
     },
     "execution_count": 20,
     "metadata": {},
     "output_type": "execute_result"
    }
   ],
   "source": [
    "number(30,40)"
   ]
  },
  {
   "cell_type": "code",
   "execution_count": 7,
   "id": "e58de519-4ea8-431a-ac54-57e3cc39b958",
   "metadata": {},
   "outputs": [
    {
     "name": "stdin",
     "output_type": "stream",
     "text": [
      "what is you age... :  -1\n"
     ]
    },
    {
     "name": "stdout",
     "output_type": "stream",
     "text": [
      "sorry that is is an invalid name please try again\n"
     ]
    },
    {
     "name": "stdin",
     "output_type": "stream",
     "text": [
      "what is you age... :  0\n"
     ]
    },
    {
     "name": "stdout",
     "output_type": "stream",
     "text": [
      "sorry that is is an invalid name please try again\n"
     ]
    },
    {
     "name": "stdin",
     "output_type": "stream",
     "text": [
      "what is you age... :  1\n"
     ]
    },
    {
     "name": "stdout",
     "output_type": "stream",
     "text": [
      "you are 1 years old\n"
     ]
    }
   ],
   "source": [
    "age = int(input(\"what is you age... : \"))\n",
    "\n",
    "while not <= 0:\n",
    "    print(\"sorry that is is an invalid name please try again\")\n",
    "    age = int(input(\"what is you age... : \"))\n",
    "print(f\"you are {age} years old\")"
   ]
  }
 ],
 "metadata": {
  "kernelspec": {
   "display_name": "Python 3 (ipykernel)",
   "language": "python",
   "name": "python3"
  },
  "language_info": {
   "codemirror_mode": {
    "name": "ipython",
    "version": 3
   },
   "file_extension": ".py",
   "mimetype": "text/x-python",
   "name": "python",
   "nbconvert_exporter": "python",
   "pygments_lexer": "ipython3",
   "version": "3.10.9"
  },
  "widgets": {
   "application/vnd.jupyter.widget-state+json": {
    "state": {},
    "version_major": 2,
    "version_minor": 0
   }
  }
 },
 "nbformat": 4,
 "nbformat_minor": 5
}
