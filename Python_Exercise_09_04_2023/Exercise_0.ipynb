{
 "cells": [
  {
   "cell_type": "markdown",
   "id": "11e9154a-f140-4e33-a3c8-f4daf0b94db1",
   "metadata": {},
   "source": [
    "### 09/04/2023\n",
    "\n",
    "[Exercise Link](https://pynative.com/python-basic-exercise-for-beginners/)"
   ]
  }
 ],
 "metadata": {
  "kernelspec": {
   "display_name": "Python 3 (ipykernel)",
   "language": "python",
   "name": "python3"
  },
  "language_info": {
   "codemirror_mode": {
    "name": "ipython",
    "version": 3
   },
   "file_extension": ".py",
   "mimetype": "text/x-python",
   "name": "python",
   "nbconvert_exporter": "python",
   "pygments_lexer": "ipython3",
   "version": "3.10.9"
  },
  "widgets": {
   "application/vnd.jupyter.widget-state+json": {
    "state": {},
    "version_major": 2,
    "version_minor": 0
   }
  }
 },
 "nbformat": 4,
 "nbformat_minor": 5
}
