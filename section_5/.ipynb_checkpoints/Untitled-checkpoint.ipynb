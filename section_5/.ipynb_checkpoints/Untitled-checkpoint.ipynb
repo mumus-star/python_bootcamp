{
 "cells": [
  {
   "cell_type": "code",
   "execution_count": 1,
   "id": "d3330471-7306-4648-bda1-9f25f7d1d3ea",
   "metadata": {},
   "outputs": [],
   "source": [
    "example = [1,2,3,4,5,6,7]"
   ]
  },
  {
   "cell_type": "code",
   "execution_count": 2,
   "id": "89b95c3c-54ca-4187-a561-288d3f6ba931",
   "metadata": {},
   "outputs": [],
   "source": [
    "from random import shuffle"
   ]
  },
  {
   "cell_type": "code",
   "execution_count": 6,
   "id": "05d633b6-e549-42d5-bbf1-b04eb779c5c0",
   "metadata": {},
   "outputs": [],
   "source": [
    "def player_guess():\n",
    "    \n",
    "    guess = ''\n",
    "    \n",
    "    while guess not in ['0','1','2']:\n",
    "        guess = input(\"pick a number 0,1 or 2: \")\n",
    "        \n",
    "    return int(guess)"
   ]
  },
  {
   "cell_type": "code",
   "execution_count": 7,
   "id": "01e4b213-68bf-43e0-8f8f-defcd3a45ea8",
   "metadata": {},
   "outputs": [
    {
     "name": "stdin",
     "output_type": "stream",
     "text": [
      "pick a number 0,1 or 2:  546\n",
      "pick a number 0,1 or 2:  2\n"
     ]
    },
    {
     "data": {
      "text/plain": [
       "2"
      ]
     },
     "execution_count": 7,
     "metadata": {},
     "output_type": "execute_result"
    }
   ],
   "source": [
    "player_guess()"
   ]
  },
  {
   "cell_type": "code",
   "execution_count": 17,
   "id": "a3cae8ea-efe3-43b9-8da7-a1b6a5ca94a6",
   "metadata": {},
   "outputs": [],
   "source": [
    "def check_player_guess():\n",
    "     if player == 0:\n",
    "            print(\"corecct\")\n",
    "     else:\n"
   ]
  },
  {
   "cell_type": "code",
   "execution_count": null,
   "id": "0b210808-bbc4-4aca-9be1-b6e9f5603e48",
   "metadata": {},
   "outputs": [],
   "source": []
  }
 ],
 "metadata": {
  "kernelspec": {
   "display_name": "Python 3 (ipykernel)",
   "language": "python",
   "name": "python3"
  },
  "language_info": {
   "codemirror_mode": {
    "name": "ipython",
    "version": 3
   },
   "file_extension": ".py",
   "mimetype": "text/x-python",
   "name": "python",
   "nbconvert_exporter": "python",
   "pygments_lexer": "ipython3",
   "version": "3.10.9"
  }
 },
 "nbformat": 4,
 "nbformat_minor": 5
}
