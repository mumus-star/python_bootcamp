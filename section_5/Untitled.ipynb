{
 "cells": [
  {
   "cell_type": "markdown",
   "id": "ba3857c5-c72f-47ff-b356-0d78c5a26997",
   "metadata": {},
   "source": [
    "### Overview of Quick Function Exercises #1-9 ###\n"
   ]
  },
  {
   "cell_type": "code",
   "execution_count": 1,
   "id": "63fc93fd-2707-462b-8619-663d0701f9b9",
   "metadata": {
    "tags": []
   },
   "outputs": [],
   "source": [
    "def myfunc():\n",
    "    print('Hello World')"
   ]
  },
  {
   "cell_type": "code",
   "execution_count": 2,
   "id": "c45b62ff-b2ec-4e52-bb40-75081827d736",
   "metadata": {
    "tags": []
   },
   "outputs": [
    {
     "name": "stdout",
     "output_type": "stream",
     "text": [
      "Hello World\n"
     ]
    }
   ],
   "source": [
    "myfunc()"
   ]
  },
  {
   "cell_type": "code",
   "execution_count": null,
   "id": "e6149a7e-a3e4-4ef0-a93c-bba53196b7bf",
   "metadata": {},
   "outputs": [],
   "source": []
  }
 ],
 "metadata": {
  "kernelspec": {
   "display_name": "Python 3 (ipykernel)",
   "language": "python",
   "name": "python3"
  },
  "language_info": {
   "codemirror_mode": {
    "name": "ipython",
    "version": 3
   },
   "file_extension": ".py",
   "mimetype": "text/x-python",
   "name": "python",
   "nbconvert_exporter": "python",
   "pygments_lexer": "ipython3",
   "version": "3.10.9"
  },
  "widgets": {
   "application/vnd.jupyter.widget-state+json": {
    "state": {},
    "version_major": 2,
    "version_minor": 0
   }
  }
 },
 "nbformat": 4,
 "nbformat_minor": 5
}
