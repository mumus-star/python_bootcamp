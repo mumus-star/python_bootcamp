{
 "cells": [
  {
   "cell_type": "code",
   "execution_count": 2,
   "id": "5d0cfa37-7450-4cb9-8f84-652d25478703",
   "metadata": {},
   "outputs": [],
   "source": [
    "sock_prices = [('apple',200),('google',400),('android',100)]"
   ]
  },
  {
   "cell_type": "code",
   "execution_count": 3,
   "id": "cdafccf2-fb8d-4f05-bc8d-40677f718dc3",
   "metadata": {},
   "outputs": [
    {
     "name": "stdout",
     "output_type": "stream",
     "text": [
      "('apple', 200)\n",
      "('google', 400)\n",
      "('android', 100)\n"
     ]
    }
   ],
   "source": [
    "for item in sock_prices:\n",
    "    print(item)"
   ]
  },
  {
   "cell_type": "code",
   "execution_count": 5,
   "id": "ea0d9a14-570c-46dc-bbde-27283872d15a",
   "metadata": {},
   "outputs": [
    {
     "name": "stdout",
     "output_type": "stream",
     "text": [
      "220.0\n",
      "440.0\n",
      "110.0\n"
     ]
    }
   ],
   "source": [
    "for ticker,price in sock_prices:\n",
    "    print(price+(0.1*price))"
   ]
  },
  {
   "cell_type": "code",
   "execution_count": 6,
   "id": "b0fb5fb7-df0b-4922-b085-812b14b432d9",
   "metadata": {},
   "outputs": [],
   "source": [
    "work_hours = [('Abby',100),('Billy',400),('casie',800)]"
   ]
  },
  {
   "cell_type": "code",
   "execution_count": null,
   "id": "78adf009-fe12-4cc8-8fd2-ffd8e9e722d6",
   "metadata": {},
   "outputs": [],
   "source": [
    "def Employie_of_the_month(work_hours):\n",
    "    most_hours = ''\n",
    "    if "
   ]
  }
 ],
 "metadata": {
  "kernelspec": {
   "display_name": "Python 3 (ipykernel)",
   "language": "python",
   "name": "python3"
  },
  "language_info": {
   "codemirror_mode": {
    "name": "ipython",
    "version": 3
   },
   "file_extension": ".py",
   "mimetype": "text/x-python",
   "name": "python",
   "nbconvert_exporter": "python",
   "pygments_lexer": "ipython3",
   "version": "3.10.9"
  },
  "widgets": {
   "application/vnd.jupyter.widget-state+json": {
    "state": {},
    "version_major": 2,
    "version_minor": 0
   }
  }
 },
 "nbformat": 4,
 "nbformat_minor": 5
}
