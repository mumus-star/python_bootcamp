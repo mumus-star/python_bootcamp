{
 "cells": [
  {
   "cell_type": "code",
   "execution_count": 1,
   "id": "b1e03de1-c6a3-40f9-9bf7-4f18ad7ef8c6",
   "metadata": {},
   "outputs": [
    {
     "name": "stdout",
     "output_type": "stream",
     "text": [
      "[3, 4, 5, 6, 7, 8, 9, 10, 11, 12, 14, 18, 20, 24, 257, -7, -3, -1, 6, -8]\n",
      "[3, 4, 5, 6, 7, 8, 9, 10, 11, 12, 14, 18, 20, 24, 257, -7, -3, -1, 6, -8]\n",
      "['MANGO', 'KIWI', 'STRAWBERRY', 'GUAVA', 'PINEAPPLE', 'MANDARIN ORANGE']\n"
     ]
    }
   ],
   "source": [
    "# 17 list comprehension problems in python\n",
    "\n",
    "fruits = ['mango', 'kiwi', 'strawberry', 'guava', 'pineapple', 'mandarin orange']\n",
    "numbers = [2, 3, 4, 5, 6, 7, 8, 9, 10, 11, 13, 17, 19, 23, 256, -8, -4, -2, 5, -9]\n",
    "\n",
    "# Example for loop solution to add 1 to each number in the list\n",
    "numbers_plus_one = []\n",
    "for number in numbers:\n",
    "    numbers_plus_one.append(number + 1)\n",
    "    \n",
    "print(numbers_plus_one)\n",
    "\n",
    "# Example of using a list comprehension to create a list of the numbers plus one.\n",
    "numbers_plus_one1 = [number + 1 for number in numbers]\n",
    "print(numbers_plus_one1)\n",
    "\n",
    "# Example code that creates a list of all of the list of strings in fruits and uppercases every string\n",
    "output = []\n",
    "for fruit in fruits:\n",
    "    output.append(fruit.upper())\n",
    "\n",
    "print(output)"
   ]
  },
  {
   "cell_type": "code",
   "execution_count": 2,
   "id": "5c7907fb-7765-49c4-a657-85067e88cec6",
   "metadata": {},
   "outputs": [
    {
     "name": "stdout",
     "output_type": "stream",
     "text": [
      "['MANGO', 'KIWI', 'STRAWBERRY', 'GUAVA', 'PINEAPPLE', 'MANDARIN ORANGE']\n"
     ]
    }
   ],
   "source": [
    "# Exercise 1 - rewrite the above example code using list comprehension syntax. \n",
    "# Make a variable named uppercased_fruits to hold the output of the list comprehension. \n",
    "# Output should be ['MANGO', 'KIWI', etc...]\n",
    "\n",
    "# fruits = ['mango', 'kiwi', 'strawberry', 'guava', 'pineapple', 'mandarin orange']\n",
    "\n",
    "\n",
    "uppercased_fruits = [item.upper() for item in fruits]\n",
    "print(uppercased_fruits)"
   ]
  },
  {
   "cell_type": "code",
   "execution_count": 3,
   "id": "9719d875-936e-4633-9330-90cbd5be2599",
   "metadata": {},
   "outputs": [
    {
     "name": "stdout",
     "output_type": "stream",
     "text": [
      "['Mango', 'Kiwi', 'Strawberry', 'Guava', 'Pineapple', 'Mandarin orange']\n"
     ]
    }
   ],
   "source": [
    "# Exercise 2 - create a variable named capitalized_fruits and use list comprehension syntax \n",
    "# to produce output like ['Mango', 'Kiwi', 'Strawberry', etc...]\n",
    "\n",
    "# fruits = ['mango', 'kiwi', 'strawberry', 'guava', 'pineapple', 'mandarin orange']\n",
    "\n",
    "capitalized_fruits = [pointer.capitalize() for pointer in fruits]\n",
    "print(capitalized_fruits)"
   ]
  },
  {
   "cell_type": "code",
   "execution_count": 4,
   "id": "ff32beb6-d83c-4982-9bbd-082f978a4732",
   "metadata": {},
   "outputs": [
    {
     "name": "stdout",
     "output_type": "stream",
     "text": [
      "['guava', 'pineapple', 'mandarin orange']\n"
     ]
    }
   ],
   "source": [
    "# Exercise 3 - Use a list comprehension to make a variable named fruits_with_more_than_two_vowels. \n",
    "# Hint: You'll need a way to check if something is a vowel.\n",
    "\n",
    "def more_than_two_vowel(fruit):\n",
    "    counter = 0\n",
    "    for x in fruit:\n",
    "        if(x in ('a', 'e', 'i', 'o', 'u')):\n",
    "            counter += 1\n",
    "    return counter > 2\n",
    "\n",
    "\n",
    "fruits_with_more_than_two_vowels = [fruit for fruit in fruits if more_than_two_vowel(fruit)]\n",
    "print(fruits_with_more_than_two_vowels)"
   ]
  },
  {
   "cell_type": "code",
   "execution_count": 5,
   "id": "b318a0ec-8c83-48e7-8738-7933e71f91da",
   "metadata": {},
   "outputs": [
    {
     "name": "stdout",
     "output_type": "stream",
     "text": [
      "[]\n"
     ]
    }
   ],
   "source": [
    "# Exercise 4 - make a variable named fruits_with_only_two_vowels. \n",
    "# The result should be ['mango', 'kiwi', 'strawberry']\n",
    "\n",
    "def more_than_two_vowel(fruit):\n",
    "    for x in fruit:\n",
    "        if(x in ('a')):\n",
    "            pass\n",
    "\n",
    "\n",
    "fruits_with_more_than_two_vowels = [fruit for fruit in fruits if more_than_two_vowel(fruit)]\n",
    "print(fruits_with_more_than_two_vowels)"
   ]
  },
  {
   "cell_type": "code",
   "execution_count": 6,
   "id": "29978ede-5dc4-4fdf-a872-1996b8b96747",
   "metadata": {},
   "outputs": [
    {
     "name": "stdout",
     "output_type": "stream",
     "text": [
      "['strawberry', 'pineapple', 'mandarin orange']\n"
     ]
    }
   ],
   "source": [
    "# Exercise 5 - make a list that contains each fruit with more than 5 characters\n",
    "# fruits = ['mango', 'kiwi', 'strawberry', 'guava', 'pineapple', 'mandarin orange']\n",
    "\n",
    "def more_than_five_characters(fruit):\n",
    "    if len(fruit) > 5:\n",
    "        return True\n",
    "    else:\n",
    "        return False\n",
    "    \n",
    "def more_than_five_characters_2(fruit):\n",
    "    return len(fruit)\n",
    "        \n",
    "fruits_with_more_than_five_characters = [fruit for fruit in fruits if more_than_five_characters(fruit)]\n",
    "fruits_with_more_than_five_characters_short = [fruit for fruit in fruits if len(fruit) > 5]\n",
    "fruits_with_more_than_five_characters_2 = [fruit for fruit in fruits if more_than_five_characters_2(fruit) > 5]\n",
    "print(fruits_with_more_than_five_characters)"
   ]
  },
  {
   "cell_type": "code",
   "execution_count": 7,
   "id": "4bf25604-3bdc-4168-b5bf-676ae78fb076",
   "metadata": {},
   "outputs": [
    {
     "name": "stdout",
     "output_type": "stream",
     "text": [
      "['mango', 'guava']\n"
     ]
    }
   ],
   "source": [
    "# Exercise 6 - make a list that contains each fruit with exactly 5 characters\n",
    "def return_the_exactly_5_characters(fruit):\n",
    "    if len(fruit) == 5:\n",
    "        return True\n",
    "    else:\n",
    "        return False\n",
    "\n",
    "\n",
    "    \n",
    "fruits_with_5_characters = [fruit for fruit in fruits if return_the_exactly_5_characters(fruit)]\n",
    "fruits_with_5_characters_2 = [fruit for fruit in fruits if len(fruit) == 5]\n",
    "print(fruits_with_5_characters_2)"
   ]
  },
  {
   "cell_type": "code",
   "execution_count": 39,
   "id": "6c450c1d-d31b-4181-ab10-c61044b35a9d",
   "metadata": {},
   "outputs": [
    {
     "name": "stdout",
     "output_type": "stream",
     "text": [
      "['kiwi']\n"
     ]
    }
   ],
   "source": [
    "# Exercise 7 - Make a list that contains fruits that have less than 5 characters\n",
    "\n",
    "fruits = ['mango', 'kiwi', 'strawberry', 'guava', 'pineapple', 'mandarin orange']\n",
    "\n",
    "def return_the_exactly_5_characters(fruit):\n",
    "    if len(fruit) < 5:\n",
    "        return True\n",
    "    else:\n",
    "        return False\n",
    "\n",
    "\n",
    "    \n",
    "fruits_with_5_characters = [fruit for fruit in fruits if return_the_exactly_5_characters(fruit)]\n",
    "fruits_with_5_characters_1 = [fruit for fruit in fruits if len(fruit) < 5]\n",
    "print(fruits_with_5_characters_1)"
   ]
  },
  {
   "cell_type": "code",
   "execution_count": 53,
   "id": "34a9017c-dce3-487f-84dc-fd3a019b9bd3",
   "metadata": {},
   "outputs": [
    {
     "name": "stdout",
     "output_type": "stream",
     "text": [
      "[5, 4, 10, 5, 9, 15]\n"
     ]
    }
   ],
   "source": [
    "# Exercise 8 - Make a list containing the number of characters in each fruit. Output would be [5, 4, 10, etc... ]\n",
    "\n",
    "fruits = ['mango', 'kiwi', 'strawberry', 'guava', 'pineapple', 'mandarin orange']\n",
    "\n",
    "each_characters = [len(item) for item in fruits]\n",
    "print(each_characters)"
   ]
  },
  {
   "cell_type": "code",
   "execution_count": 8,
   "id": "0527b1a3-ee72-4cc9-b149-c9e3d68c1284",
   "metadata": {},
   "outputs": [
    {
     "name": "stdout",
     "output_type": "stream",
     "text": [
      "['mango', 'strawberry', 'guava', 'pineapple', 'mandarin orange']\n"
     ]
    }
   ],
   "source": [
    "# Exercise 9 - Make a variable named fruits_with_letter_a\n",
    "# that contains a list of only the fruits that contain the letter \"a\"\n",
    "\n",
    "fruits = ['mango', 'kiwi', 'strawberry', 'guava', 'pineapple', 'mandarin orange']\n",
    "\n",
    "def fruits_that_have_the_letter_a(fruit):\n",
    "    for x in fruits:\n",
    "        if 'a' in fruit:\n",
    "            return True\n",
    "        else:\n",
    "            return False\n",
    "\n",
    "\n",
    "fruits_with_a = [fruit for fruit in fruits if fruits_that_have_the_letter_a(fruit)]\n",
    "fruits_with_a_1 = [fruit for fruit in fruits if 'a' in fruit]\n",
    "print(fruits_with_a_1)"
   ]
  },
  {
   "cell_type": "code",
   "execution_count": 77,
   "id": "166bcd45-9a16-4cc2-8307-401f36f07699",
   "metadata": {},
   "outputs": [
    {
     "name": "stdout",
     "output_type": "stream",
     "text": [
      "[2, 4, 6, 8, 10, 256, -8, -4, -2]\n"
     ]
    }
   ],
   "source": [
    "# Exercise 10 - Make a variable named even_numbers that holds only the even numbers \n",
    "\n",
    "numbers = [2, 3, 4, 5, 6, 7, 8, 9, 10, 11, 13, 17, 19, 23, 256, -8, -4, -2, 5, -9]\n",
    "\n",
    "even_numbers = [even for even in numbers if even%2 == 0]\n",
    "print(even_numbers)"
   ]
  },
  {
   "cell_type": "code",
   "execution_count": 78,
   "id": "f398b13d-5add-475c-b1dc-98f3ec943de8",
   "metadata": {},
   "outputs": [
    {
     "name": "stdout",
     "output_type": "stream",
     "text": [
      "[3, 5, 7, 9, 11, 13, 17, 19, 23, 5, -9]\n"
     ]
    }
   ],
   "source": [
    "# Exercise 11 - Make a variable named odd_numbers that holds only the odd numbers\n",
    "numbers = [2, 3, 4, 5, 6, 7, 8, 9, 10, 11, 13, 17, 19, 23, 256, -8, -4, -2, 5, -9]\n",
    "\n",
    "even_numbers = [even for even in numbers if even%2 == 1]\n",
    "print(even_numbers)"
   ]
  },
  {
   "cell_type": "code",
   "execution_count": 79,
   "id": "f17e0f04-5596-43cc-8863-9c118cfb487c",
   "metadata": {},
   "outputs": [
    {
     "name": "stdout",
     "output_type": "stream",
     "text": [
      "[2, 3, 4, 5, 6, 7, 8, 9, 10, 11, 13, 17, 19, 23, 256, 5]\n"
     ]
    }
   ],
   "source": [
    "# Exercise 12 - Make a variable named positive_numbers that holds only the positive numbers\n",
    "\n",
    "numbers = [2, 3, 4, 5, 6, 7, 8, 9, 10, 11, 13, 17, 19, 23, 256, -8, -4, -2, 5, -9]\n",
    " \n",
    "positive_numbers = [positive for positive in numbers if positive > 0]\n",
    "print(positive_numbers)"
   ]
  },
  {
   "cell_type": "code",
   "execution_count": 80,
   "id": "dee918aa-f9e7-4c68-b1a1-02a68d2f3cd8",
   "metadata": {},
   "outputs": [
    {
     "name": "stdout",
     "output_type": "stream",
     "text": [
      "[-8, -4, -2, -9]\n"
     ]
    }
   ],
   "source": [
    "# Exercise 13 - Make a variable named negative_numbers that holds only the negative numbers\n",
    "\n",
    "numbers = [2, 3, 4, 5, 6, 7, 8, 9, 10, 11, 13, 17, 19, 23, 256, -8, -4, -2, 5, -9]\n",
    " \n",
    "positive_numbers = [positive for positive in numbers if positive < 0]\n",
    "print(positive_numbers)"
   ]
  },
  {
   "cell_type": "code",
   "execution_count": 84,
   "id": "71e88be6-7c4b-4df0-9217-ab89203384cb",
   "metadata": {},
   "outputs": [
    {
     "name": "stdout",
     "output_type": "stream",
     "text": [
      "[10, 11, 13, 17, 19, 23, 256]\n"
     ]
    }
   ],
   "source": [
    "# Exercise 14 - use a list comprehension w/ a conditional in order to produce a list of numbers \n",
    "# with 2 or more numerals#\n",
    "\n",
    "numbers = [2, 3, 4, 5, 6, 7, 8, 9, 10, 11, 13, 17, 19, 23, 256, -8, -4, -2, 5, -9]\n",
    "\n",
    "with_more_than_2_numerals = [num for num in numbers if num > 9]\n",
    "print(with_more_than_2_numerals)"
   ]
  },
  {
   "cell_type": "code",
   "execution_count": 87,
   "id": "89afdbff-f182-4e1c-a82f-83aada95fe10",
   "metadata": {},
   "outputs": [
    {
     "name": "stdout",
     "output_type": "stream",
     "text": [
      "[4, 9, 16, 25, 36, 49, 64, 81, 100, 121, 169, 289, 361, 529, 65536, 64, 16, 4, 25, 81]\n"
     ]
    }
   ],
   "source": [
    "# Exercise 15 - Make a variable named numbers_squared that contains the numbers list with each element squared.\n",
    "# Output is [4, 9, 16, etc...]\n",
    "\n",
    "numbers = [2, 3, 4, 5, 6, 7, 8, 9, 10, 11, 13, 17, 19, 23, 256, -8, -4, -2, 5, -9]\n",
    "\n",
    "numbers_squared = [num**2 for num in numbers]\n",
    "print(numbers_squared)"
   ]
  },
  {
   "cell_type": "code",
   "execution_count": 92,
   "id": "04ce0114-ca53-4296-a9f1-f3ec427b0bc0",
   "metadata": {},
   "outputs": [
    {
     "name": "stdout",
     "output_type": "stream",
     "text": [
      "[-9]\n"
     ]
    }
   ],
   "source": [
    "# Exercise 16 - Make a variable named odd_negative_numbers that\n",
    "# contains only the numbers that are both odd and negative.\n",
    "\n",
    "numbers = [2, 3, 4, 5, 6, 7, 8, 9, 10, 11, 13, 17, 19, 23, 256, -8, -4, -2, 5, -9]\n",
    "\n",
    "odd_negative_numbers = [num for num in numbers if (num%2 == 1 and num < 0)]\n",
    "print(odd_negative_numbers)"
   ]
  },
  {
   "cell_type": "code",
   "execution_count": 94,
   "id": "9be42b7f-b020-448f-9c3c-af3a2105e844",
   "metadata": {},
   "outputs": [
    {
     "name": "stdout",
     "output_type": "stream",
     "text": [
      "[7, 8, 9, 10, 11, 12, 13, 14, 15, 16, 18, 22, 24, 28, 261, -3, 1, 3, 10, -4]\n"
     ]
    }
   ],
   "source": [
    "# Exercise 17 - Make a variable named numbers_plus_5. In it,\n",
    "# return a list containing each number plus five.\n",
    "\n",
    "numbers = [2, 3, 4, 5, 6, 7, 8, 9, 10, 11, 13, 17, 19, 23, 256, -8, -4, -2, 5, -9]\n",
    "\n",
    "numbers_plus_5 = [num+5 for num in numbers]\n",
    "print(numbers_plus_5)"
   ]
  },
  {
   "cell_type": "code",
   "execution_count": 111,
   "id": "2c27142e-c2d2-4eb0-aa6a-d4621db21e86",
   "metadata": {},
   "outputs": [
    {
     "name": "stdout",
     "output_type": "stream",
     "text": [
      "[2, 3, 5, 7, 11, 13, 17, 19, 23, 5]\n"
     ]
    }
   ],
   "source": [
    "# BONUS Make a variable named \"primes\" that is a list containing the prime numbers in the numbers list.\n",
    "# *Hint* you may want to make or find a helper function that determines if a given number is prime or not\n",
    "\n",
    "# A prime number is any number that can only be divided by 1 and itself e.g 3 => No other number can devide 3 \n",
    "# except the number 1 and number 3. e.g 3, 5, 7, 11, 13, \n",
    "\n",
    "numbers = [2, 3, 4, 5, 6, 7, 8, 9, 10, 11, 13, 17, 19, 23, 256, -8, -4, -2, 5, -9]\n",
    "\n",
    "import math\n",
    "\n",
    "def is_prime(n):\n",
    "\tif n < 2:\n",
    "\t\treturn False\n",
    "\ti = 2\n",
    "\twhile i*i <= n:\n",
    "\t\tif n % i == 0:\n",
    "\t\t\treturn False\n",
    "\t\ti += 1\n",
    "\treturn True\n",
    "\n",
    "primes = [num for num in numbers if is_prime(num)]\n",
    "print(primes)"
   ]
  }
 ],
 "metadata": {
  "kernelspec": {
   "display_name": "Python 3 (ipykernel)",
   "language": "python",
   "name": "python3"
  },
  "language_info": {
   "codemirror_mode": {
    "name": "ipython",
    "version": 3
   },
   "file_extension": ".py",
   "mimetype": "text/x-python",
   "name": "python",
   "nbconvert_exporter": "python",
   "pygments_lexer": "ipython3",
   "version": "3.10.9"
  },
  "widgets": {
   "application/vnd.jupyter.widget-state+json": {
    "state": {},
    "version_major": 2,
    "version_minor": 0
   }
  }
 },
 "nbformat": 4,
 "nbformat_minor": 5
}
