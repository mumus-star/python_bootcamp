{
 "cells": [
  {
   "cell_type": "markdown",
   "id": "908588cd-9d25-468e-8414-d42f218b476a",
   "metadata": {},
   "source": [
    "#### Use while loop to solve the following exercises\n",
    "\n",
    ">  Given a list of numbers L and a list of strings S, L = [1, 3, 8, 9, -9, 23, 11, 78, 34, 4] and S = [\"Japan\", \"Straberry\", \"Northampton\", \"Boat\", \"Pot\", \"Ceramic\"]"
   ]
  }
 ],
 "metadata": {
  "kernelspec": {
   "display_name": "Python 3 (ipykernel)",
   "language": "python",
   "name": "python3"
  },
  "language_info": {
   "codemirror_mode": {
    "name": "ipython",
    "version": 3
   },
   "file_extension": ".py",
   "mimetype": "text/x-python",
   "name": "python",
   "nbconvert_exporter": "python",
   "pygments_lexer": "ipython3",
   "version": "3.10.9"
  },
  "widgets": {
   "application/vnd.jupyter.widget-state+json": {
    "state": {},
    "version_major": 2,
    "version_minor": 0
   }
  }
 },
 "nbformat": 4,
 "nbformat_minor": 5
}
