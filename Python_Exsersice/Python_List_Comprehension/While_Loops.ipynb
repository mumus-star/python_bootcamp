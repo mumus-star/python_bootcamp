{
 "cells": [
  {
   "cell_type": "markdown",
   "id": "908588cd-9d25-468e-8414-d42f218b476a",
   "metadata": {},
   "source": [
    "#### Use while loop to solve the following exercises\n",
    "\n",
    ">  Given a list of numbers L and a list of strings S, L = [1, 3, 8, 9, -9, 23, 11, 78, 34, 4] and S = [\"Japan\", \"Straberry\", \"Northampton\", \"Boat\", \"Pot\", \"Ceramic\"]"
   ]
  },
  {
   "cell_type": "code",
   "execution_count": 5,
   "id": "e887ca6e-22bd-4d0c-befd-a421898bf214",
   "metadata": {
    "tags": []
   },
   "outputs": [
    {
     "name": "stdout",
     "output_type": "stream",
     "text": [
      "while 1\n",
      "while 3\n",
      "while 5\n",
      "while 7\n",
      "while 9\n",
      "for 1\n",
      "for 2\n",
      "for 3\n",
      "for 4\n",
      "for 5\n",
      "for 6\n",
      "for 7\n",
      "for 8\n",
      "for 9\n",
      "for 10\n"
     ]
    }
   ],
   "source": [
    "start = 1\n",
    "end = 10\n",
    "\n",
    "while start <= end:\n",
    "    print(f\"while {start}\")\n",
    "    start += 2\n",
    "\n",
    "    # while 1\n",
    "    # for 2\n",
    "    # for 3\n",
    "    \n",
    "    \n",
    "for item in range(1,11):\n",
    "    print(f\"for {item}\")"
   ]
  }
 ],
 "metadata": {
  "kernelspec": {
   "display_name": "Python 3 (ipykernel)",
   "language": "python",
   "name": "python3"
  },
  "language_info": {
   "codemirror_mode": {
    "name": "ipython",
    "version": 3
   },
   "file_extension": ".py",
   "mimetype": "text/x-python",
   "name": "python",
   "nbconvert_exporter": "python",
   "pygments_lexer": "ipython3",
   "version": "3.10.9"
  },
  "widgets": {
   "application/vnd.jupyter.widget-state+json": {
    "state": {},
    "version_major": 2,
    "version_minor": 0
   }
  }
 },
 "nbformat": 4,
 "nbformat_minor": 5
}
