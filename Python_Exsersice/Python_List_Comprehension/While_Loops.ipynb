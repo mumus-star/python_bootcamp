{
 "cells": [
  {
   "cell_type": "markdown",
   "id": "908588cd-9d25-468e-8414-d42f218b476a",
   "metadata": {},
   "source": [
    "#### Use while loop to solve the following exercises\n",
    "\n",
    ">  Given a list of numbers L and a list of strings S, L = [1, 3, 8, 9, -9, 23, 11, 78, 34, 4] and S = [\"Japan\", \"Straberry\", \"Northampton\", \"Boat\", \"Pot\", \"Ceramic\"]"
   ]
  },
  {
   "cell_type": "code",
   "execution_count": 10,
   "id": "e887ca6e-22bd-4d0c-befd-a421898bf214",
   "metadata": {
    "tags": []
   },
   "outputs": [
    {
     "name": "stdout",
     "output_type": "stream",
     "text": [
      "1\n",
      "2\n",
      "3\n",
      "4\n",
      "5\n",
      "6\n",
      "7\n",
      "8\n",
      "9\n",
      "10\n"
     ]
    }
   ],
   "source": [
    "start = 1\n",
    "end = 10\n",
    "\n",
    "while start <= end:\n",
    "    print(start)\n",
    "    start += 1"
   ]
  }
 ],
 "metadata": {
  "kernelspec": {
   "display_name": "Python 3 (ipykernel)",
   "language": "python",
   "name": "python3"
  },
  "language_info": {
   "codemirror_mode": {
    "name": "ipython",
    "version": 3
   },
   "file_extension": ".py",
   "mimetype": "text/x-python",
   "name": "python",
   "nbconvert_exporter": "python",
   "pygments_lexer": "ipython3",
   "version": "3.10.9"
  },
  "widgets": {
   "application/vnd.jupyter.widget-state+json": {
    "state": {},
    "version_major": 2,
    "version_minor": 0
   }
  }
 },
 "nbformat": 4,
 "nbformat_minor": 5
}
