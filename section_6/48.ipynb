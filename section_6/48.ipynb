{
 "cells": [
  {
   "cell_type": "code",
   "execution_count": 11,
   "id": "17453e10-4a65-44f7-b1f5-e21e322a9c4b",
   "metadata": {
    "tags": []
   },
   "outputs": [],
   "source": [
    "def myfunc(*args):\n",
    "    for item in args:\n",
    "        print(item)"
   ]
  },
  {
   "cell_type": "code",
   "execution_count": 12,
   "id": "0e56e21a-1b1e-4fad-8b3f-7f8400cd3f9f",
   "metadata": {
    "tags": []
   },
   "outputs": [
    {
     "name": "stdout",
     "output_type": "stream",
     "text": [
      "40\n",
      "60\n",
      "100\n",
      "1\n",
      "34\n"
     ]
    }
   ],
   "source": [
    "myfunc(40,60,100,1,34)"
   ]
  },
  {
   "cell_type": "code",
   "execution_count": 31,
   "id": "d04706da-7a6e-4478-8680-413d509802d1",
   "metadata": {},
   "outputs": [],
   "source": [
    "def myfunc(*args,**kwargs):\n",
    "    \n",
    "    print('I would like {} {} please'.format(args[0],kwargs['food']))"
   ]
  },
  {
   "cell_type": "code",
   "execution_count": 32,
   "id": "07376e98-368e-459c-979d-e78695ef77fd",
   "metadata": {},
   "outputs": [
    {
     "name": "stdout",
     "output_type": "stream",
     "text": [
      "I would like 24 apples please\n"
     ]
    }
   ],
   "source": [
    "myfunc(24 ,food='apples')"
   ]
  },
  {
   "cell_type": "code",
   "execution_count": 34,
   "id": "6ba316c0-8eeb-4f7a-a1fe-596559d0ceb2",
   "metadata": {},
   "outputs": [],
   "source": [
    "def myfunc(*args):\n",
    "    \n",
    "    mylist = []\n",
    "    \n",
    "    for iem in args:\n",
    "        if args%2 == 0:\n",
    "            mylist.append(args)"
   ]
  },
  {
   "cell_type": "code",
   "execution_count": null,
   "id": "51d39c78-618d-4031-b3c2-53ae24d4ae51",
   "metadata": {},
   "outputs": [],
   "source": [
    "myfunc(*)"
   ]
  }
 ],
 "metadata": {
  "kernelspec": {
   "display_name": "Python 3 (ipykernel)",
   "language": "python",
   "name": "python3"
  },
  "language_info": {
   "codemirror_mode": {
    "name": "ipython",
    "version": 3
   },
   "file_extension": ".py",
   "mimetype": "text/x-python",
   "name": "python",
   "nbconvert_exporter": "python",
   "pygments_lexer": "ipython3",
   "version": "3.10.9"
  },
  "widgets": {
   "application/vnd.jupyter.widget-state+json": {
    "state": {},
    "version_major": 2,
    "version_minor": 0
   }
  }
 },
 "nbformat": 4,
 "nbformat_minor": 5
}
