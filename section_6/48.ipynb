{
 "cells": [
  {
   "cell_type": "code",
   "execution_count": 11,
   "id": "17453e10-4a65-44f7-b1f5-e21e322a9c4b",
   "metadata": {
    "tags": []
   },
   "outputs": [],
   "source": [
    "def myfunc(*args):\n",
    "    for item in args:\n",
    "        print(item)"
   ]
  },
  {
   "cell_type": "code",
   "execution_count": 12,
   "id": "0e56e21a-1b1e-4fad-8b3f-7f8400cd3f9f",
   "metadata": {
    "tags": []
   },
   "outputs": [
    {
     "name": "stdout",
     "output_type": "stream",
     "text": [
      "40\n",
      "60\n",
      "100\n",
      "1\n",
      "34\n"
     ]
    }
   ],
   "source": [
    "myfunc(40,60,100,1,34)"
   ]
  },
  {
   "cell_type": "code",
   "execution_count": 31,
   "id": "d04706da-7a6e-4478-8680-413d509802d1",
   "metadata": {},
   "outputs": [],
   "source": [
    "def myfunc(*args,**kwargs):\n",
    "    \n",
    "    print('I would like {} {} please'.format(args[0],kwargs['food']))"
   ]
  },
  {
   "cell_type": "code",
   "execution_count": 32,
   "id": "07376e98-368e-459c-979d-e78695ef77fd",
   "metadata": {},
   "outputs": [
    {
     "name": "stdout",
     "output_type": "stream",
     "text": [
      "I would like 24 apples please\n"
     ]
    }
   ],
   "source": [
    "myfunc(24 ,food='apples')"
   ]
  },
  {
   "cell_type": "code",
   "execution_count": 33,
   "id": "6ba316c0-8eeb-4f7a-a1fe-596559d0ceb2",
   "metadata": {},
   "outputs": [
    {
     "ename": "TypeError",
     "evalue": "unsupported operand type(s) for %: 'tuple' and 'int'",
     "output_type": "error",
     "traceback": [
      "\u001b[1;31m---------------------------------------------------------------------------\u001b[0m",
      "\u001b[1;31mTypeError\u001b[0m                                 Traceback (most recent call last)",
      "Cell \u001b[1;32mIn[33], line 12\u001b[0m\n\u001b[0;32m      9\u001b[0m     \u001b[38;5;28;01mreturn\u001b[39;00m args\n\u001b[0;32m     10\u001b[0m     \u001b[38;5;28mprint\u001b[39m(mylist)\n\u001b[1;32m---> 12\u001b[0m \u001b[43mmyfunc\u001b[49m\u001b[43m(\u001b[49m\u001b[38;5;241;43m5\u001b[39;49m\u001b[43m,\u001b[49m\u001b[38;5;241;43m6\u001b[39;49m\u001b[43m,\u001b[49m\u001b[38;5;241;43m7\u001b[39;49m\u001b[43m,\u001b[49m\u001b[38;5;241;43m8\u001b[39;49m\u001b[43m)\u001b[49m\n",
      "Cell \u001b[1;32mIn[33], line 5\u001b[0m, in \u001b[0;36mmyfunc\u001b[1;34m(*args)\u001b[0m\n\u001b[0;32m      1\u001b[0m \u001b[38;5;28;01mdef\u001b[39;00m \u001b[38;5;21mmyfunc\u001b[39m(\u001b[38;5;241m*\u001b[39margs):\n\u001b[0;32m      3\u001b[0m     mylist \u001b[38;5;241m=\u001b[39m []\n\u001b[1;32m----> 5\u001b[0m     \u001b[38;5;28;01mif\u001b[39;00m \u001b[43margs\u001b[49m\u001b[38;5;241;43m%\u001b[39;49m\u001b[38;5;241;43m2\u001b[39;49m \u001b[38;5;241m==\u001b[39m \u001b[38;5;241m0\u001b[39m:\n\u001b[0;32m      6\u001b[0m         mylist\u001b[38;5;241m.\u001b[39mappend(args)\n\u001b[0;32m      7\u001b[0m     \u001b[38;5;28;01melse\u001b[39;00m:\n",
      "\u001b[1;31mTypeError\u001b[0m: unsupported operand type(s) for %: 'tuple' and 'int'"
     ]
    }
   ],
   "source": [
    "def myfunc(*args):\n",
    "    \n",
    "    mylist = []\n",
    "    \n",
    "    for iem in args:\n",
    "        if args%2 == 0:\n",
    "            mylist.append(args)"
   ]
  }
 ],
 "metadata": {
  "kernelspec": {
   "display_name": "Python 3 (ipykernel)",
   "language": "python",
   "name": "python3"
  },
  "language_info": {
   "codemirror_mode": {
    "name": "ipython",
    "version": 3
   },
   "file_extension": ".py",
   "mimetype": "text/x-python",
   "name": "python",
   "nbconvert_exporter": "python",
   "pygments_lexer": "ipython3",
   "version": "3.10.9"
  },
  "widgets": {
   "application/vnd.jupyter.widget-state+json": {
    "state": {},
    "version_major": 2,
    "version_minor": 0
   }
  }
 },
 "nbformat": 4,
 "nbformat_minor": 5
}
