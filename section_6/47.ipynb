{
 "cells": [
  {
   "cell_type": "code",
   "execution_count": 16,
   "id": "d3330471-7306-4648-bda1-9f25f7d1d3ea",
   "metadata": {
    "tags": []
   },
   "outputs": [],
   "source": [
    "example = [1,2,3,4,5,6,7]"
   ]
  },
  {
   "cell_type": "code",
   "execution_count": 35,
   "id": "89b95c3c-54ca-4187-a561-288d3f6ba931",
   "metadata": {
    "tags": []
   },
   "outputs": [],
   "source": [
    "from random import shuffle"
   ]
  },
  {
   "cell_type": "code",
   "execution_count": 45,
   "id": "a5953bb1-5559-4fdd-ad85-058a8c0b53c5",
   "metadata": {
    "tags": []
   },
   "outputs": [],
   "source": [
    "def shuffle_mylist():\n",
    "    shuffle(example)\n",
    "    return example"
   ]
  },
  {
   "cell_type": "code",
   "execution_count": 76,
   "id": "18aaf689-ff16-4bff-9eff-b2212ea44cf4",
   "metadata": {
    "tags": []
   },
   "outputs": [
    {
     "data": {
      "text/plain": [
       "[6, 4, 1, 5, 2, 3, 7]"
      ]
     },
     "execution_count": 76,
     "metadata": {},
     "output_type": "execute_result"
    }
   ],
   "source": [
    "shuffle_mylist()"
   ]
  },
  {
   "cell_type": "code",
   "execution_count": 79,
   "id": "4d522f08-4356-44df-aa49-c8a7de863866",
   "metadata": {
    "tags": []
   },
   "outputs": [],
   "source": [
    "mylist = [' ','O',' ']"
   ]
  },
  {
   "cell_type": "code",
   "execution_count": 181,
   "id": "523ea2bf-d8f1-4e5f-bda2-cb4414eb5e5e",
   "metadata": {
    "tags": []
   },
   "outputs": [],
   "source": [
    "def shuffle_list(mylist):\n",
    "    shuffle(mylist)\n",
    "    return mylist"
   ]
  },
  {
   "cell_type": "code",
   "execution_count": 198,
   "id": "c910976d-4eef-4035-a24c-8619db87f0ff",
   "metadata": {
    "tags": []
   },
   "outputs": [
    {
     "data": {
      "text/plain": [
       "['', 'O', '']"
      ]
     },
     "execution_count": 198,
     "metadata": {},
     "output_type": "execute_result"
    }
   ],
   "source": [
    "shuffle_mylist()"
   ]
  },
  {
   "cell_type": "code",
   "execution_count": 199,
   "id": "05d633b6-e549-42d5-bbf1-b04eb779c5c0",
   "metadata": {
    "tags": []
   },
   "outputs": [],
   "source": [
    "def player_guess():\n",
    "    \n",
    "    guess = ''\n",
    "    \n",
    "    while guess not in ['0','1','2']:\n",
    "        guess = input(\"pick a number 0,1 or 2: \")\n",
    "        \n",
    "    return int(guess)"
   ]
  },
  {
   "cell_type": "code",
   "execution_count": 200,
   "id": "01e4b213-68bf-43e0-8f8f-defcd3a45ea8",
   "metadata": {
    "tags": []
   },
   "outputs": [
    {
     "name": "stdin",
     "output_type": "stream",
     "text": [
      "pick a number 0,1 or 2:  8\n",
      "pick a number 0,1 or 2:  2\n"
     ]
    },
    {
     "data": {
      "text/plain": [
       "2"
      ]
     },
     "execution_count": 200,
     "metadata": {},
     "output_type": "execute_result"
    }
   ],
   "source": [
    "player_guess()"
   ]
  },
  {
   "cell_type": "code",
   "execution_count": 203,
   "id": "a3cae8ea-efe3-43b9-8da7-a1b6a5ca94a6",
   "metadata": {
    "tags": []
   },
   "outputs": [],
   "source": [
    "def check_guess(mylist,guess):\n",
    "    if mylist[guess] == 'O':\n",
    "        print(\"correct\")\n",
    "    else:\n",
    "        print(\"Wrong try agian\")\n",
    "        print(mylist)"
   ]
  },
  {
   "cell_type": "code",
   "execution_count": 209,
   "id": "0b210808-bbc4-4aca-9be1-b6e9f5603e48",
   "metadata": {
    "tags": []
   },
   "outputs": [
    {
     "name": "stdin",
     "output_type": "stream",
     "text": [
      "pick a number 0,1 or 2:  8\n",
      "pick a number 0,1 or 2:  0\n"
     ]
    },
    {
     "name": "stdout",
     "output_type": "stream",
     "text": [
      "Wrong try agian\n",
      "[' ', ' ', 'O']\n"
     ]
    }
   ],
   "source": [
    "mylist = [' ','O',' ']\n",
    "\n",
    "mixed_list = shuffle_list(mylist)\n",
    "\n",
    "guess = player_guess()\n",
    "\n",
    "check_guess(mixed_list,guess)"
   ]
  }
 ],
 "metadata": {
  "kernelspec": {
   "display_name": "Python 3 (ipykernel)",
   "language": "python",
   "name": "python3"
  },
  "language_info": {
   "codemirror_mode": {
    "name": "ipython",
    "version": 3
   },
   "file_extension": ".py",
   "mimetype": "text/x-python",
   "name": "python",
   "nbconvert_exporter": "python",
   "pygments_lexer": "ipython3",
   "version": "3.10.9"
  },
  "widgets": {
   "application/vnd.jupyter.widget-state+json": {
    "state": {},
    "version_major": 2,
    "version_minor": 0
   }
  }
 },
 "nbformat": 4,
 "nbformat_minor": 5
}
