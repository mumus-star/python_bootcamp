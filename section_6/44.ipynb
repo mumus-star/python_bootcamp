{
 "cells": [
  {
   "cell_type": "code",
   "execution_count": 4,
   "id": "f8000272-91ad-4287-9349-9285028ae607",
   "metadata": {},
   "outputs": [],
   "source": [
    "def say_hello():\n",
    "    name = input(\"what is you name: \")\n",
    "    print(f\"hello {name}\")"
   ]
  },
  {
   "cell_type": "code",
   "execution_count": 7,
   "id": "c33facd1-9949-4b2b-8bd7-31c1f9d3d3c8",
   "metadata": {},
   "outputs": [
    {
     "name": "stdin",
     "output_type": "stream",
     "text": [
      "what is you name:  misia\n"
     ]
    },
    {
     "name": "stdout",
     "output_type": "stream",
     "text": [
      "hello misia\n"
     ]
    }
   ],
   "source": [
    "say_hello()"
   ]
  },
  {
   "cell_type": "code",
   "execution_count": 39,
   "id": "88b59daf-f855-4748-8e6a-c8b28bb3a3ba",
   "metadata": {},
   "outputs": [],
   "source": [
    "def return_result(a,b,c):\n",
    "    return a+b + a*b - c"
   ]
  },
  {
   "cell_type": "code",
   "execution_count": 43,
   "id": "a77b71ec-8d08-4a78-8e67-2cacaa42fec4",
   "metadata": {},
   "outputs": [
    {
     "data": {
      "text/plain": [
       "5"
      ]
     },
     "execution_count": 43,
     "metadata": {},
     "output_type": "execute_result"
    }
   ],
   "source": [
    "return_result(34,21,764)"
   ]
  },
  {
   "cell_type": "code",
   "execution_count": 36,
   "id": "df554e66-b4ba-440f-a968-ad733b88cc20",
   "metadata": {},
   "outputs": [
    {
     "data": {
      "text/plain": [
       "55"
      ]
     },
     "execution_count": 36,
     "metadata": {},
     "output_type": "execute_result"
    }
   ],
   "source": [
    "34+21"
   ]
  },
  {
   "cell_type": "code",
   "execution_count": 38,
   "id": "8a24437c-4192-40dc-a8b2-9aaeeef29d4e",
   "metadata": {},
   "outputs": [
    {
     "data": {
      "text/plain": [
       "769"
      ]
     },
     "execution_count": 38,
     "metadata": {},
     "output_type": "execute_result"
    }
   ],
   "source": [
    "34*21+55"
   ]
  }
 ],
 "metadata": {
  "kernelspec": {
   "display_name": "Python 3 (ipykernel)",
   "language": "python",
   "name": "python3"
  },
  "language_info": {
   "codemirror_mode": {
    "name": "ipython",
    "version": 3
   },
   "file_extension": ".py",
   "mimetype": "text/x-python",
   "name": "python",
   "nbconvert_exporter": "python",
   "pygments_lexer": "ipython3",
   "version": "3.10.9"
  },
  "widgets": {
   "application/vnd.jupyter.widget-state+json": {
    "state": {},
    "version_major": 2,
    "version_minor": 0
   }
  }
 },
 "nbformat": 4,
 "nbformat_minor": 5
}
