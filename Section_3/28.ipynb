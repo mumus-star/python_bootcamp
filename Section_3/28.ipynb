{
 "cells": [
  {
   "cell_type": "code",
   "execution_count": 15,
   "id": "7bdb915d-1f11-4869-b317-ca6f465d70c1",
   "metadata": {},
   "outputs": [
    {
     "name": "stdout",
     "output_type": "stream",
     "text": [
      "Overwriting my_file.txt\n"
     ]
    }
   ],
   "source": [
    "%%writefile my_file.txt\n",
    "hello my name is miguel\n",
    "and i love football\n",
    "and programing"
   ]
  },
  {
   "cell_type": "code",
   "execution_count": 17,
   "id": "6c3a59e5-0593-46bf-bde4-9f7c9b7a11b6",
   "metadata": {},
   "outputs": [],
   "source": [
    "my_file = open('my_file.txt')"
   ]
  },
  {
   "cell_type": "code",
   "execution_count": 9,
   "id": "d807b647-5cd5-419d-93b6-30678fae5e36",
   "metadata": {},
   "outputs": [
    {
     "data": {
      "text/plain": [
       "'C:\\\\Users\\\\Miguel\\\\Python-3-Bootcamp\\\\Section_3'"
      ]
     },
     "execution_count": 9,
     "metadata": {},
     "output_type": "execute_result"
    }
   ],
   "source": [
    "pwd"
   ]
  },
  {
   "cell_type": "code",
   "execution_count": 18,
   "id": "613b90c5-270d-41b5-989b-be8585eb0316",
   "metadata": {},
   "outputs": [],
   "source": [
    "my_file = open('my_file.txt')"
   ]
  },
  {
   "cell_type": "code",
   "execution_count": 20,
   "id": "fdafd505-3b76-493e-a0d1-6e25963d34a3",
   "metadata": {},
   "outputs": [
    {
     "data": {
      "text/plain": [
       "'hello my name is miguel\\nand i love football\\nand programing\\n'"
      ]
     },
     "execution_count": 20,
     "metadata": {},
     "output_type": "execute_result"
    }
   ],
   "source": [
    "my_file.read()"
   ]
  },
  {
   "cell_type": "code",
   "execution_count": 21,
   "id": "06cd8edc-6716-43ae-ab83-3a2b175972ab",
   "metadata": {},
   "outputs": [
    {
     "data": {
      "text/plain": [
       "''"
      ]
     },
     "execution_count": 21,
     "metadata": {},
     "output_type": "execute_result"
    }
   ],
   "source": [
    "my_file.read()"
   ]
  },
  {
   "cell_type": "code",
   "execution_count": 22,
   "id": "1095864d-244a-40d0-be18-df11b850ce6a",
   "metadata": {},
   "outputs": [],
   "source": [
    "my_file = open('my_file.txt')"
   ]
  },
  {
   "cell_type": "code",
   "execution_count": 23,
   "id": "1d92fc05-6861-4cf1-9a42-5a8fe9af00ee",
   "metadata": {},
   "outputs": [
    {
     "data": {
      "text/plain": [
       "'hello my name is miguel\\nand i love football\\nand programing\\n'"
      ]
     },
     "execution_count": 23,
     "metadata": {},
     "output_type": "execute_result"
    }
   ],
   "source": [
    "my_file.read()"
   ]
  },
  {
   "cell_type": "code",
   "execution_count": 25,
   "id": "55d0b336-2b21-4691-850d-0c6560863292",
   "metadata": {},
   "outputs": [
    {
     "data": {
      "text/plain": [
       "0"
      ]
     },
     "execution_count": 25,
     "metadata": {},
     "output_type": "execute_result"
    }
   ],
   "source": [
    "my_file.seek(0)"
   ]
  },
  {
   "cell_type": "code",
   "execution_count": 26,
   "id": "52a1ebe3-433c-49e6-9c3d-5cba7691cc32",
   "metadata": {},
   "outputs": [
    {
     "data": {
      "text/plain": [
       "['hello my name is miguel\\n', 'and i love football\\n', 'and programing\\n']"
      ]
     },
     "execution_count": 26,
     "metadata": {},
     "output_type": "execute_result"
    }
   ],
   "source": [
    "my_file.readlines()"
   ]
  },
  {
   "cell_type": "code",
   "execution_count": 27,
   "id": "01bd2e3f-c54e-4487-9b62-33adbad1d912",
   "metadata": {},
   "outputs": [],
   "source": [
    "my_file.close()"
   ]
  },
  {
   "cell_type": "code",
   "execution_count": 28,
   "id": "622e4704-04fc-47ef-8766-b01b0985048c",
   "metadata": {},
   "outputs": [],
   "source": [
    "with open('my_file.txt') as my_new_file:\n",
    "    content = my_new_file.read()"
   ]
  },
  {
   "cell_type": "code",
   "execution_count": 31,
   "id": "4633d8e2-68eb-4d9b-9add-0a39c1a4b7b1",
   "metadata": {},
   "outputs": [
    {
     "data": {
      "text/plain": [
       "'hello my name is miguel\\nand i love football\\nand programing\\n'"
      ]
     },
     "execution_count": 31,
     "metadata": {},
     "output_type": "execute_result"
    }
   ],
   "source": [
    "content"
   ]
  },
  {
   "cell_type": "code",
   "execution_count": 36,
   "id": "b0d3227b-7ad1-4666-916c-1f355eb3ad58",
   "metadata": {},
   "outputs": [],
   "source": [
    "my_file = open('my_file.txt')"
   ]
  },
  {
   "cell_type": "code",
   "execution_count": 37,
   "id": "e359efca-6032-4321-8932-c082146c63c9",
   "metadata": {},
   "outputs": [],
   "source": [
    "with open('my_file.txt',mode='a') as myfile:\n",
    "    content = my_file.read()"
   ]
  },
  {
   "cell_type": "code",
   "execution_count": null,
   "id": "53a795ab-4d43-4d68-bc0d-4f9112fdb809",
   "metadata": {},
   "outputs": [],
   "source": [
    "#mode='r' read only"
   ]
  },
  {
   "cell_type": "code",
   "execution_count": null,
   "id": "a9b9d612-6eaf-467d-87ad-0aa73850f176",
   "metadata": {},
   "outputs": [],
   "source": [
    "#mode='w'"
   ]
  },
  {
   "cell_type": "code",
   "execution_count": null,
   "id": "1093bebc-a507-417e-b392-fef2e26ede96",
   "metadata": {},
   "outputs": [],
   "source": [
    "#mode='a'"
   ]
  },
  {
   "cell_type": "code",
   "execution_count": null,
   "id": "0c252b41-b466-4832-969a-df0b2905be3d",
   "metadata": {},
   "outputs": [],
   "source": [
    "#mode=''"
   ]
  },
  {
   "cell_type": "code",
   "execution_count": null,
   "id": "da0f4d6c-b1f6-4188-b6e6-db768865c473",
   "metadata": {},
   "outputs": [],
   "source": [
    "mode='r'#"
   ]
  }
 ],
 "metadata": {
  "kernelspec": {
   "display_name": "Python 3 (ipykernel)",
   "language": "python",
   "name": "python3"
  },
  "language_info": {
   "codemirror_mode": {
    "name": "ipython",
    "version": 3
   },
   "file_extension": ".py",
   "mimetype": "text/x-python",
   "name": "python",
   "nbconvert_exporter": "python",
   "pygments_lexer": "ipython3",
   "version": "3.10.9"
  },
  "widgets": {
   "application/vnd.jupyter.widget-state+json": {
    "state": {},
    "version_major": 2,
    "version_minor": 0
   }
  }
 },
 "nbformat": 4,
 "nbformat_minor": 5
}
